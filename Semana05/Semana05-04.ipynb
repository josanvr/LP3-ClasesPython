{
 "cells": [
  {
   "cell_type": "markdown",
   "id": "f2262f1e",
   "metadata": {},
   "source": [
    "# Semana 05\n",
    "Jose Andres Vera Rodriguez\n",
    "\n",
    "## Temas:\n",
    "1. Numeros\n",
    "2. Variables\n",
    "3. Manejo de Cadenas\n",
    "4. Ingreso de datos por teclado\n",
    "5. Operadores"
   ]
  },
  {
   "cell_type": "markdown",
   "id": "f9c18606",
   "metadata": {},
   "source": [
    "### 4. Ingreso de datos por teclado"
   ]
  },
  {
   "cell_type": "code",
   "execution_count": 2,
   "id": "f0526f41",
   "metadata": {},
   "outputs": [
    {
     "name": "stdout",
     "output_type": "stream",
     "text": [
      "Cual es tu nombre?\n",
      "Andres\n",
      "Hola Andres\n"
     ]
    }
   ],
   "source": [
    "#Funcion input\n",
    "print(\"Cual es tu nombre?\")\n",
    "nombre = input()\n",
    "print(\"Hola \"+ nombre)"
   ]
  },
  {
   "cell_type": "code",
   "execution_count": 3,
   "id": "0724128f",
   "metadata": {},
   "outputs": [
    {
     "name": "stdout",
     "output_type": "stream",
     "text": [
      "numero1:\n",
      "2\n",
      "2\n"
     ]
    }
   ],
   "source": [
    "#Funcion input\n",
    "print(\"numero1:\")\n",
    "numero1 = input()\n",
    "print(numero1)"
   ]
  },
  {
   "cell_type": "code",
   "execution_count": null,
   "id": "a534b5ba",
   "metadata": {},
   "outputs": [],
   "source": []
  }
 ],
 "metadata": {
  "kernelspec": {
   "display_name": "Python 3 (ipykernel)",
   "language": "python",
   "name": "python3"
  },
  "language_info": {
   "codemirror_mode": {
    "name": "ipython",
    "version": 3
   },
   "file_extension": ".py",
   "mimetype": "text/x-python",
   "name": "python",
   "nbconvert_exporter": "python",
   "pygments_lexer": "ipython3",
   "version": "3.9.7"
  }
 },
 "nbformat": 4,
 "nbformat_minor": 5
}
