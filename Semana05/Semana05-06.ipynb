{
 "cells": [
  {
   "cell_type": "markdown",
   "id": "1f8dee27",
   "metadata": {},
   "source": [
    "# Semana 05.5\n",
    "Jose Andres Vera Rodriguez\n",
    "\n",
    "## Temas:\n",
    "6. Colecciones de datos\n",
    "7. Estructuras decisiovas y repetitivas\n",
    "8. Clases y objetos\n",
    "9. Funciones"
   ]
  },
  {
   "cell_type": "code",
   "execution_count": 1,
   "id": "97b4c496",
   "metadata": {},
   "outputs": [
    {
     "name": "stdout",
     "output_type": "stream",
     "text": [
      "['Vasquez', 'Reyes', 'Condori']\n"
     ]
    }
   ],
   "source": [
    "#Listas\n",
    "#Coleccion de elementos que puede ser ordenada, modificada,etc\n",
    "#Se identifica por los corchetes\n",
    "aula = ['Vasquez','Reyes','Condori']\n",
    "print(aula)"
   ]
  },
  {
   "cell_type": "code",
   "execution_count": 2,
   "id": "c446289c",
   "metadata": {},
   "outputs": [
    {
     "data": {
      "text/plain": [
       "['Vasquez', 'Reyes', 'Condori']"
      ]
     },
     "execution_count": 2,
     "metadata": {},
     "output_type": "execute_result"
    }
   ],
   "source": [
    "#Tambien se puede imprimir con solo mencionar la lista\n",
    "aula"
   ]
  },
  {
   "cell_type": "code",
   "execution_count": 3,
   "id": "5296f40f",
   "metadata": {},
   "outputs": [
    {
     "name": "stdout",
     "output_type": "stream",
     "text": [
      "Vasquez\n",
      "Reyes\n"
     ]
    }
   ],
   "source": [
    "#Podemos extraer cada elemento por su posicion\n",
    "print(aula[0])\n",
    "print(aula[1])"
   ]
  },
  {
   "cell_type": "code",
   "execution_count": 4,
   "id": "7b4f0919",
   "metadata": {},
   "outputs": [
    {
     "data": {
      "text/plain": [
       "'Sayas'"
      ]
     },
     "execution_count": 4,
     "metadata": {},
     "output_type": "execute_result"
    }
   ],
   "source": [
    "#Puedo asignar el valor a una posicion de la lista\n",
    "aula[1] = 'Sayas'\n",
    "aula[1]"
   ]
  },
  {
   "cell_type": "code",
   "execution_count": 5,
   "id": "1a9f0b4e",
   "metadata": {},
   "outputs": [
    {
     "data": {
      "text/plain": [
       "['Vasquez', 'Sayas', 'Condori']"
      ]
     },
     "execution_count": 5,
     "metadata": {},
     "output_type": "execute_result"
    }
   ],
   "source": [
    "#MOSTRAMOS COMO QUEDO LA LISTA \n",
    "aula"
   ]
  },
  {
   "cell_type": "code",
   "execution_count": 7,
   "id": "82215925",
   "metadata": {},
   "outputs": [
    {
     "data": {
      "text/plain": [
       "['Vasquez', 'Sayas', 'Condori', 'Trigos', 'Trigos']"
      ]
     },
     "execution_count": 7,
     "metadata": {},
     "output_type": "execute_result"
    }
   ],
   "source": [
    "#Para agregar un elemento utilizamos append\n",
    "aula.append(\"Trigos\")\n",
    "aula"
   ]
  },
  {
   "cell_type": "code",
   "execution_count": 8,
   "id": "aca4b6f5",
   "metadata": {},
   "outputs": [],
   "source": [
    "#Para eliminar elementos utilizamos remove[]\n",
    "aula.remove(\"Sayas\")"
   ]
  },
  {
   "cell_type": "code",
   "execution_count": 9,
   "id": "7651cfd0",
   "metadata": {},
   "outputs": [
    {
     "data": {
      "text/plain": [
       "['Vasquez', 'Condori', 'Trigos', 'Trigos']"
      ]
     },
     "execution_count": 9,
     "metadata": {},
     "output_type": "execute_result"
    }
   ],
   "source": [
    "aula"
   ]
  },
  {
   "cell_type": "code",
   "execution_count": 11,
   "id": "ff92f48c",
   "metadata": {},
   "outputs": [],
   "source": [
    "#Si hubeiera varios elementos de valores iguales se elimina la primera coincidencia\n",
    "aula.remove(\"Trigos\")"
   ]
  },
  {
   "cell_type": "code",
   "execution_count": 12,
   "id": "ef24daad",
   "metadata": {},
   "outputs": [
    {
     "data": {
      "text/plain": [
       "['Vasquez', 'Condori', 'Trigos']"
      ]
     },
     "execution_count": 12,
     "metadata": {},
     "output_type": "execute_result"
    }
   ],
   "source": [
    "aula"
   ]
  },
  {
   "cell_type": "code",
   "execution_count": 13,
   "id": "b4e377bd",
   "metadata": {},
   "outputs": [
    {
     "data": {
      "text/plain": [
       "3"
      ]
     },
     "execution_count": 13,
     "metadata": {},
     "output_type": "execute_result"
    }
   ],
   "source": [
    "len(aula)"
   ]
  },
  {
   "cell_type": "code",
   "execution_count": 14,
   "id": "78c5e4d6",
   "metadata": {},
   "outputs": [
    {
     "name": "stdout",
     "output_type": "stream",
     "text": [
      "Vasquez\n",
      "Condori\n",
      "Trigos\n"
     ]
    }
   ],
   "source": [
    "#Para recoorer podemos utilizar una estructura repetitiva\n",
    "for alumno in aula:\n",
    "    print(alumno)"
   ]
  },
  {
   "cell_type": "code",
   "execution_count": 19,
   "id": "685b8230",
   "metadata": {},
   "outputs": [
    {
     "data": {
      "text/plain": [
       "['Trigos', 'Condori', 'Vasquez']"
      ]
     },
     "execution_count": 19,
     "metadata": {},
     "output_type": "execute_result"
    }
   ],
   "source": [
    "#Para invertir la lista utilizamos reverse()\n",
    "#invertir no significa ordenar de forma descendente sino ivertir la lista ascendente\n",
    "aula.reverse()\n",
    "aula"
   ]
  },
  {
   "cell_type": "code",
   "execution_count": 20,
   "id": "14fac134",
   "metadata": {},
   "outputs": [
    {
     "data": {
      "text/plain": [
       "['Condori', 'Trigos', 'Vasquez']"
      ]
     },
     "execution_count": 20,
     "metadata": {},
     "output_type": "execute_result"
    }
   ],
   "source": [
    "#Para ordenar la lista utilzamos sort()\n",
    "aula.sort()\n",
    "aula"
   ]
  },
  {
   "cell_type": "code",
   "execution_count": 21,
   "id": "7a7f48fc",
   "metadata": {},
   "outputs": [
    {
     "data": {
      "text/plain": [
       "('Vasquez', 'Reyes', 'Condori')"
      ]
     },
     "execution_count": 21,
     "metadata": {},
     "output_type": "execute_result"
    }
   ],
   "source": [
    "#Tuplas\n",
    "#Coleccion de elementos ordenada (ordenado significa que tiene un indice que no se puede modificar, es inalterable)\n",
    "#No se puede agregar ni eliminar elementos\n",
    "#Se identifica por los parentesis\n",
    "tupla_aula = ('Vasquez','Reyes','Condori')\n",
    "tupla_aula"
   ]
  },
  {
   "cell_type": "code",
   "execution_count": null,
   "id": "5709d208",
   "metadata": {},
   "outputs": [],
   "source": []
  }
 ],
 "metadata": {
  "kernelspec": {
   "display_name": "Python 3 (ipykernel)",
   "language": "python",
   "name": "python3"
  },
  "language_info": {
   "codemirror_mode": {
    "name": "ipython",
    "version": 3
   },
   "file_extension": ".py",
   "mimetype": "text/x-python",
   "name": "python",
   "nbconvert_exporter": "python",
   "pygments_lexer": "ipython3",
   "version": "3.9.7"
  }
 },
 "nbformat": 4,
 "nbformat_minor": 5
}
