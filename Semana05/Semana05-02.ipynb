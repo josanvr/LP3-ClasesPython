{
 "cells": [
  {
   "cell_type": "markdown",
   "id": "20278054",
   "metadata": {},
   "source": [
    "# Semana 05\n",
    "Jose Andres Vera Rodriguez\n",
    "\n",
    "## Temas:\n",
    "1. Numeros\n",
    "2. Variables\n",
    "3. Manejo de Cadenas\n",
    "4. Ingreso de datos por teclado\n",
    "5. Operadores"
   ]
  },
  {
   "cell_type": "markdown",
   "id": "ac53cc7f",
   "metadata": {},
   "source": [
    "### 2. Variables"
   ]
  },
  {
   "cell_type": "markdown",
   "id": "af9a3dbe",
   "metadata": {},
   "source": [
    "Variables: Siempre debe iniciar con una letra o guion abajo. (Nunca con numero o simbolo)"
   ]
  },
  {
   "cell_type": "code",
   "execution_count": 1,
   "id": "87dfd0a7",
   "metadata": {},
   "outputs": [],
   "source": [
    "edad = 41"
   ]
  },
  {
   "cell_type": "code",
   "execution_count": 2,
   "id": "09d9d9a7",
   "metadata": {},
   "outputs": [
    {
     "data": {
      "text/plain": [
       "41"
      ]
     },
     "execution_count": 2,
     "metadata": {},
     "output_type": "execute_result"
    }
   ],
   "source": [
    "edad"
   ]
  },
  {
   "cell_type": "code",
   "execution_count": 3,
   "id": "edb9861b",
   "metadata": {},
   "outputs": [],
   "source": [
    "nombre = \"Andres\""
   ]
  },
  {
   "cell_type": "code",
   "execution_count": 4,
   "id": "3a07abee",
   "metadata": {},
   "outputs": [
    {
     "data": {
      "text/plain": [
       "'Andres'"
      ]
     },
     "execution_count": 4,
     "metadata": {},
     "output_type": "execute_result"
    }
   ],
   "source": [
    "nombre"
   ]
  },
  {
   "cell_type": "code",
   "execution_count": 5,
   "id": "2caeebad",
   "metadata": {},
   "outputs": [],
   "source": [
    "apellido = \"Vera Rodriguez\""
   ]
  },
  {
   "cell_type": "code",
   "execution_count": 6,
   "id": "ebd187a4",
   "metadata": {},
   "outputs": [
    {
     "data": {
      "text/plain": [
       "'Vera Rodriguez'"
      ]
     },
     "execution_count": 6,
     "metadata": {},
     "output_type": "execute_result"
    }
   ],
   "source": [
    "apellido"
   ]
  },
  {
   "cell_type": "code",
   "execution_count": 7,
   "id": "d4870040",
   "metadata": {},
   "outputs": [],
   "source": [
    "nombrecompleto = nombre +\" \"+ apellido"
   ]
  },
  {
   "cell_type": "code",
   "execution_count": 8,
   "id": "a2c682c7",
   "metadata": {},
   "outputs": [
    {
     "data": {
      "text/plain": [
       "'Andres Vera Rodriguez'"
      ]
     },
     "execution_count": 8,
     "metadata": {},
     "output_type": "execute_result"
    }
   ],
   "source": [
    "nombrecompleto"
   ]
  },
  {
   "cell_type": "markdown",
   "id": "7953a9e8",
   "metadata": {},
   "source": [
    "Para saber el tipo de variable utilizamos la funcion type()\n",
    "### Por ejemplo:"
   ]
  },
  {
   "cell_type": "code",
   "execution_count": 9,
   "id": "e190f4a5",
   "metadata": {},
   "outputs": [
    {
     "data": {
      "text/plain": [
       "int"
      ]
     },
     "execution_count": 9,
     "metadata": {},
     "output_type": "execute_result"
    }
   ],
   "source": [
    "numero = 50\n",
    "type(numero)"
   ]
  },
  {
   "cell_type": "code",
   "execution_count": 10,
   "id": "f46bff7f",
   "metadata": {},
   "outputs": [
    {
     "data": {
      "text/plain": [
       "str"
      ]
     },
     "execution_count": 10,
     "metadata": {},
     "output_type": "execute_result"
    }
   ],
   "source": [
    "type(nombre)"
   ]
  },
  {
   "cell_type": "code",
   "execution_count": 11,
   "id": "316bda78",
   "metadata": {},
   "outputs": [
    {
     "data": {
      "text/plain": [
       "float"
      ]
     },
     "execution_count": 11,
     "metadata": {},
     "output_type": "execute_result"
    }
   ],
   "source": [
    "talla = 1.69\n",
    "type(talla)"
   ]
  },
  {
   "cell_type": "code",
   "execution_count": 12,
   "id": "31c7dd9e",
   "metadata": {},
   "outputs": [
    {
     "data": {
      "text/plain": [
       "'100'"
      ]
     },
     "execution_count": 12,
     "metadata": {},
     "output_type": "execute_result"
    }
   ],
   "source": [
    "# Para convertir un numero en cadena str()\n",
    "numero = 100\n",
    "cadena = str(numero)\n",
    "\n",
    "cadena"
   ]
  },
  {
   "cell_type": "code",
   "execution_count": 13,
   "id": "aa7e7ab1",
   "metadata": {},
   "outputs": [
    {
     "data": {
      "text/plain": [
       "50"
      ]
     },
     "execution_count": 13,
     "metadata": {},
     "output_type": "execute_result"
    }
   ],
   "source": [
    "# Para convertir cadena a entero utilizamos int()\n",
    "cadena2 = \"50\"\n",
    "numero2 = int(cadena2)\n",
    "\n",
    "numero2"
   ]
  },
  {
   "cell_type": "code",
   "execution_count": 14,
   "id": "16002b9a",
   "metadata": {},
   "outputs": [
    {
     "data": {
      "text/plain": [
       "1.65"
      ]
     },
     "execution_count": 14,
     "metadata": {},
     "output_type": "execute_result"
    }
   ],
   "source": [
    "# Para convertir cadena a decimal utilizamos float()\n",
    "cadena3 = \"1.65\"\n",
    "numero3 = float(cadena3)\n",
    "\n",
    "numero3"
   ]
  },
  {
   "cell_type": "code",
   "execution_count": null,
   "id": "32c05795",
   "metadata": {},
   "outputs": [],
   "source": []
  }
 ],
 "metadata": {
  "kernelspec": {
   "display_name": "Python 3 (ipykernel)",
   "language": "python",
   "name": "python3"
  },
  "language_info": {
   "codemirror_mode": {
    "name": "ipython",
    "version": 3
   },
   "file_extension": ".py",
   "mimetype": "text/x-python",
   "name": "python",
   "nbconvert_exporter": "python",
   "pygments_lexer": "ipython3",
   "version": "3.9.7"
  }
 },
 "nbformat": 4,
 "nbformat_minor": 5
}
