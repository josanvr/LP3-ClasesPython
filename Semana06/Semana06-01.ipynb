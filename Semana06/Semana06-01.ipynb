{
 "cells": [
  {
   "cell_type": "markdown",
   "id": "75aa1e72",
   "metadata": {},
   "source": [
    "# Semana 05\n",
    "Jose Andres Vera Rodriguez\n",
    "\n",
    "## Temas: Bucles y condiciones"
   ]
  },
  {
   "cell_type": "code",
   "execution_count": 2,
   "id": "d080a6aa",
   "metadata": {},
   "outputs": [],
   "source": [
    "#Estructuras decisivas (if,elif,else)"
   ]
  },
  {
   "cell_type": "code",
   "execution_count": 6,
   "id": "8bf6f98b",
   "metadata": {},
   "outputs": [
    {
     "name": "stdout",
     "output_type": "stream",
     "text": [
      "Producto 1: 1000\n",
      "Producto 2: 20\n",
      "Producto 3: 30\n",
      "El total a pagar es: 945.0\n"
     ]
    }
   ],
   "source": [
    "#if\n",
    "#Problema: Dado el precio de 3 productos ingresados por teclado, aplicar un descuento del 10% si laventa es mayor igual a 1000\n",
    "P1 = float(input(\"Producto 1: \"))\n",
    "P2 = float(input(\"Producto 2: \"))\n",
    "P3 = float(input(\"Producto 3: \"))\n",
    "total = P1 + P2 + P3\n",
    "\n",
    "if total >= 1000:\n",
    "    total*=0.9\n",
    "\n",
    "    print(f\"El total a pagar es: {total}\")"
   ]
  },
  {
   "cell_type": "code",
   "execution_count": 11,
   "id": "a7757481",
   "metadata": {},
   "outputs": [
    {
     "name": "stdout",
     "output_type": "stream",
     "text": [
      "Ingresa nombre a buscar: vera\n",
      " - Si se encuentra en la lista.\n"
     ]
    }
   ],
   "source": [
    "#IF-ELSE\n",
    "#Problema1 (Recordando)\n",
    "#Dado un alista de \n",
    "#[ACUÑA, CHAVES, CONDORI, CONTRERAS, HINOSTROZA, LEANDRO, QUISPE, REYES, RUIZ, SAYAS, TRIGO,  VASQUEZ, VERA, ZEVALLOS]\n",
    "#Diseñar codigo que muestre si el apellido ingersado forma parte del arreglo\n",
    "\n",
    "LP3 = [\"ACUÑA\", \"CHAVES\", \"CONDORI\", \"CONTRERAS\", \"HINOSTROZA\", \"LEANDRO\", \"QUISPE\", \"REYES\", \"RUIZ\", \"SAYAS\", \"TRIGO\",\n",
    "       \"VASQUEZ\", \"VERA\", \"ZEVALLOS\"]\n",
    "\n",
    "apellido = input(\"Ingresa nombre a buscar: \")\n",
    "\n",
    "if apellido.upper() in LP3:\n",
    "    print(\" - Si se encuentra en la lista.\")\n",
    "else:\n",
    "    print(\" - No se encuentra en la lista\")"
   ]
  },
  {
   "cell_type": "code",
   "execution_count": 23,
   "id": "5a90f971",
   "metadata": {},
   "outputs": [
    {
     "name": "stdout",
     "output_type": "stream",
     "text": [
      "Ingrese importe total de ventas: 7000\n",
      "Pertenece a la Categoria D\n"
     ]
    }
   ],
   "source": [
    "#Problema2 - elif\n",
    "#Dado el importe total de ventas realizadas por un trabajador(ingresado por teclado), \n",
    "#categorizar que tipo de empleado es, considerando la siguiente tabla:\n",
    "\n",
    "#categoria A [0, 1000]\n",
    "#categoria B <1000, 2000]\n",
    "#categoria C <2000, 5000]\n",
    "#categoria D <5000, mas]\n",
    "\n",
    "importe = float(input(\"Ingrese importe total de ventas: \"))\n",
    "\n",
    "if importe >=0 and importe<=1000:\n",
    "    print(\"Pertenece a la Categoria A\")\n",
    "    \n",
    "elif importe>1000 and importe<=2000:\n",
    "    print(\"Pertenece a la Categoria B\")\n",
    "    \n",
    "elif importe>2000 and importe<=5000:\n",
    "    print(\"Pertenece a la Categoria C\")\n",
    "    \n",
    "elif importe>5000:\n",
    "    print(\"Pertenece a la Categoria D\")\n",
    "\n",
    "else:\n",
    "    print(\"Monto invalido.\")"
   ]
  },
  {
   "cell_type": "code",
   "execution_count": 24,
   "id": "e39e1644",
   "metadata": {},
   "outputs": [],
   "source": [
    "#Estructuras repetitivas\n",
    "#for"
   ]
  },
  {
   "cell_type": "code",
   "execution_count": 25,
   "id": "5d136320",
   "metadata": {},
   "outputs": [
    {
     "name": "stdout",
     "output_type": "stream",
     "text": [
      "Acuña\n",
      "Chavez\n",
      "Condori\n",
      "Contreras\n"
     ]
    }
   ],
   "source": [
    "#Problema1:\n",
    "#Mostrar elementos de una lista for\n",
    "aula = [\"Acuña\", \"Chavez\", \"Condori\", \"Contreras\"]\n",
    "\n",
    "#Por cada alumno que esta en la lista, imprimir alumno\n",
    "for alumno in aula:\n",
    "    print(alumno)"
   ]
  },
  {
   "cell_type": "code",
   "execution_count": 27,
   "id": "f719aab5",
   "metadata": {},
   "outputs": [
    {
     "name": "stdout",
     "output_type": "stream",
     "text": [
      "Ingrese cadena: hola\n",
      "h\n",
      "o\n",
      "l\n",
      "a\n"
     ]
    }
   ],
   "source": [
    "#Problema2:\n",
    "#Dada una cadena ingresada por el teclado, mostrar cada caracter de la cadena, utilizando la estructura for\n",
    "cadena = input(\"Ingrese cadena: \")\n",
    "for caracter in cadena:\n",
    "    print(caracter)"
   ]
  },
  {
   "cell_type": "code",
   "execution_count": 28,
   "id": "8f89e1c9",
   "metadata": {},
   "outputs": [
    {
     "data": {
      "text/plain": [
       "range(0, 5)"
      ]
     },
     "execution_count": 28,
     "metadata": {},
     "output_type": "execute_result"
    }
   ],
   "source": [
    "#Para generar rangos de numeros uitlizamos range()\n",
    "range(5)"
   ]
  },
  {
   "cell_type": "code",
   "execution_count": 29,
   "id": "8c43864b",
   "metadata": {},
   "outputs": [
    {
     "name": "stdout",
     "output_type": "stream",
     "text": [
      "0\n",
      "1\n",
      "2\n",
      "3\n",
      "4\n",
      "5\n",
      "6\n",
      "7\n",
      "8\n",
      "9\n",
      "10\n"
     ]
    }
   ],
   "source": [
    "#Problema3\n",
    "#Imprmir los numeros de 0 a 10 utilizando for\n",
    "for numero in range(11):\n",
    "    print(numero)"
   ]
  },
  {
   "cell_type": "code",
   "execution_count": 31,
   "id": "2689adf1",
   "metadata": {},
   "outputs": [
    {
     "name": "stdout",
     "output_type": "stream",
     "text": [
      "5\n",
      "6\n",
      "7\n",
      "8\n",
      "9\n",
      "10\n"
     ]
    }
   ],
   "source": [
    "#Problema 4\n",
    "#Imprimir los numero del 5 al 10 utilizando for\n",
    "for numero in range(5,11):\n",
    "    print(numero)"
   ]
  },
  {
   "cell_type": "code",
   "execution_count": 32,
   "id": "a3357105",
   "metadata": {},
   "outputs": [
    {
     "name": "stdout",
     "output_type": "stream",
     "text": [
      "10\n",
      "12\n",
      "14\n",
      "16\n",
      "18\n",
      "20\n"
     ]
    }
   ],
   "source": [
    "#Impimir numero del 10 al 20\n",
    "for numero in range(10,22,2):\n",
    "    print(numero)"
   ]
  },
  {
   "cell_type": "code",
   "execution_count": 37,
   "id": "b9e5ba23",
   "metadata": {},
   "outputs": [
    {
     "name": "stdout",
     "output_type": "stream",
     "text": [
      "Lista ordenada: \n",
      "[0, 1, 4, 5, 10, 12]\n"
     ]
    }
   ],
   "source": [
    "#Tambien funciona los bucles anidados:\n",
    "#Dado una lista de numeros, utilizando el algoritmo de burbuja ordenarlos de menor a mayor\n",
    "\n",
    "i=0\n",
    "lista = [12,5,1,4,10,0]\n",
    "\n",
    "for i in range(0,len(lista)-1):\n",
    "    for j in range(i+1, len(lista)):\n",
    "        if lista[i]>lista[j]:\n",
    "            aux = lista[i]\n",
    "            lista[i]=lista[j]\n",
    "            lista[j]=aux\n",
    "print(\"Lista ordenada: \")\n",
    "print(lista)\n",
    "    "
   ]
  },
  {
   "cell_type": "code",
   "execution_count": 38,
   "id": "939cdf69",
   "metadata": {},
   "outputs": [
    {
     "name": "stdout",
     "output_type": "stream",
     "text": [
      "1\n",
      "2\n",
      "3\n",
      "4\n",
      "5\n",
      "6\n",
      "7\n",
      "8\n",
      "9\n",
      "10\n"
     ]
    }
   ],
   "source": [
    "#While\n",
    "numero = 1\n",
    "fin = 10\n",
    "while numero <= fin:\n",
    "    print(numero)\n",
    "    numero+=1"
   ]
  },
  {
   "cell_type": "code",
   "execution_count": null,
   "id": "c4e69bfb",
   "metadata": {},
   "outputs": [],
   "source": []
  }
 ],
 "metadata": {
  "kernelspec": {
   "display_name": "Python 3 (ipykernel)",
   "language": "python",
   "name": "python3"
  },
  "language_info": {
   "codemirror_mode": {
    "name": "ipython",
    "version": 3
   },
   "file_extension": ".py",
   "mimetype": "text/x-python",
   "name": "python",
   "nbconvert_exporter": "python",
   "pygments_lexer": "ipython3",
   "version": "3.9.7"
  }
 },
 "nbformat": 4,
 "nbformat_minor": 5
}
