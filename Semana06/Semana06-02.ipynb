{
 "cells": [
  {
   "cell_type": "markdown",
   "id": "67d582f8",
   "metadata": {},
   "source": [
    "# Semana 06\n",
    "Jose Andres Vera Rodriguez\n",
    "\n",
    "## Temas: Funciones"
   ]
  },
  {
   "cell_type": "code",
   "execution_count": 1,
   "id": "1eb95847",
   "metadata": {},
   "outputs": [],
   "source": [
    "#Tambien conocidos como METODOS\n",
    "#Para crear un metodo usamos:  def\n",
    "#4 Metodos: Vacios - Que reciben valores - Que devuelven valores - Que reciben y devuelven valores"
   ]
  },
  {
   "cell_type": "code",
   "execution_count": 2,
   "id": "63b22609",
   "metadata": {},
   "outputs": [],
   "source": [
    "#Metodos vacios\n",
    "# ---No reciben valores (Parametros)\n",
    "\n",
    "def saludo():\n",
    "    print(\"Hola mundo\")\n",
    "    print(\"**Python**\")"
   ]
  },
  {
   "cell_type": "code",
   "execution_count": 3,
   "id": "0577802d",
   "metadata": {},
   "outputs": [
    {
     "name": "stdout",
     "output_type": "stream",
     "text": [
      "Hola mundo\n",
      "**Python**\n"
     ]
    }
   ],
   "source": [
    "saludo()"
   ]
  },
  {
   "cell_type": "code",
   "execution_count": 4,
   "id": "029479fd",
   "metadata": {},
   "outputs": [],
   "source": [
    "#Metodos que reciben valores\n",
    "\n",
    "def factorial(numero):\n",
    "    fac = 1\n",
    "    for i in range(1, numero+1):\n",
    "        fac*=i #fac = fac*i\n",
    "    print(f\"El factorial es: {fac}\")\n",
    "        "
   ]
  },
  {
   "cell_type": "code",
   "execution_count": 6,
   "id": "df1bf7e3",
   "metadata": {},
   "outputs": [
    {
     "name": "stdout",
     "output_type": "stream",
     "text": [
      "El factorial es: 24\n"
     ]
    }
   ],
   "source": [
    "factorial(4)"
   ]
  },
  {
   "cell_type": "code",
   "execution_count": 7,
   "id": "3fa95fa5",
   "metadata": {},
   "outputs": [],
   "source": [
    "#Metodo que devuelven valores\n",
    "\n",
    "def saludo2():\n",
    "    mensaje = \"Bienvenidos a LP3\"\n",
    "    return mensaje"
   ]
  },
  {
   "cell_type": "code",
   "execution_count": 8,
   "id": "0e9ffe63",
   "metadata": {},
   "outputs": [
    {
     "data": {
      "text/plain": [
       "'Bienvenidos a LP3'"
      ]
     },
     "execution_count": 8,
     "metadata": {},
     "output_type": "execute_result"
    }
   ],
   "source": [
    "saludo2()"
   ]
  },
  {
   "cell_type": "code",
   "execution_count": 9,
   "id": "2f3da239",
   "metadata": {},
   "outputs": [
    {
     "name": "stdout",
     "output_type": "stream",
     "text": [
      "Bienvenidos a LP3\n"
     ]
    }
   ],
   "source": [
    "print(saludo2())"
   ]
  },
  {
   "cell_type": "code",
   "execution_count": 10,
   "id": "faffcb6b",
   "metadata": {},
   "outputs": [],
   "source": [
    "#Metodos que reciben y devuelven valores\n",
    "\n",
    "def factorial2(numero):\n",
    "    fac = 1\n",
    "    for i in range(1,numero+1):\n",
    "        fac*=i\n",
    "    return fac"
   ]
  },
  {
   "cell_type": "code",
   "execution_count": 11,
   "id": "1ad35776",
   "metadata": {},
   "outputs": [
    {
     "name": "stdout",
     "output_type": "stream",
     "text": [
      "Numero: 4\n",
      "El factorial de 4 es 24\n"
     ]
    }
   ],
   "source": [
    "numero =int(input(\"Numero: \"))\n",
    "print(f\"El factorial de {numero} es {factorial2(numero)}\")"
   ]
  },
  {
   "cell_type": "code",
   "execution_count": 12,
   "id": "a3d86eb8",
   "metadata": {},
   "outputs": [],
   "source": [
    "#Otro ejemplo: Calcular el IGV\n",
    "\n",
    "def obtenerigv(importe):\n",
    "    return importe*0.19"
   ]
  },
  {
   "cell_type": "code",
   "execution_count": 13,
   "id": "40d65135",
   "metadata": {},
   "outputs": [
    {
     "data": {
      "text/plain": [
       "28.5"
      ]
     },
     "execution_count": 13,
     "metadata": {},
     "output_type": "execute_result"
    }
   ],
   "source": [
    "obtenerigv(150)"
   ]
  },
  {
   "cell_type": "code",
   "execution_count": null,
   "id": "bc5a5832",
   "metadata": {},
   "outputs": [],
   "source": []
  }
 ],
 "metadata": {
  "kernelspec": {
   "display_name": "Python 3 (ipykernel)",
   "language": "python",
   "name": "python3"
  },
  "language_info": {
   "codemirror_mode": {
    "name": "ipython",
    "version": 3
   },
   "file_extension": ".py",
   "mimetype": "text/x-python",
   "name": "python",
   "nbconvert_exporter": "python",
   "pygments_lexer": "ipython3",
   "version": "3.9.7"
  }
 },
 "nbformat": 4,
 "nbformat_minor": 5
}
