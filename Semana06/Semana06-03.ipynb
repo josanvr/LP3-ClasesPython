{
 "cells": [
  {
   "cell_type": "markdown",
   "id": "d3919e27",
   "metadata": {},
   "source": [
    "# Semana 06\n",
    "Jose Andres Vera Rodriguez\n",
    "\n",
    "## Temas: Clases y objetos"
   ]
  },
  {
   "cell_type": "code",
   "execution_count": 1,
   "id": "21276a2d",
   "metadata": {},
   "outputs": [],
   "source": [
    "#Problema1\n",
    "#Crear la siguiente clase:\n",
    "#Clase persona\n",
    "#Atributos: nombre, apellidos, fecha_nacimiento, dni"
   ]
  },
  {
   "cell_type": "code",
   "execution_count": 2,
   "id": "899239c9",
   "metadata": {},
   "outputs": [],
   "source": [
    "class Persona:\n",
    "    nombre = \"\"\n",
    "    apellido = \"\"\n",
    "    dni = \"\"\n",
    "    talla = 0"
   ]
  },
  {
   "cell_type": "code",
   "execution_count": 10,
   "id": "789fc4d9",
   "metadata": {},
   "outputs": [
    {
     "name": "stdout",
     "output_type": "stream",
     "text": [
      "Nombre: Andres\n",
      "Apellidos: Vera Rodriguez\n",
      "DNI: 72971111\n",
      "Talla: 1.69\n"
     ]
    }
   ],
   "source": [
    "#Creamos un objeto persona1 de la clase Persona()y le asignamos valores\n",
    "\n",
    "persona1 = Persona()\n",
    "#Asignar valores\n",
    "persona1.nombre = \"Andres\"\n",
    "persona1.apellidos = \"Vera Rodriguez\"\n",
    "persona1.dni = \"72971111\"\n",
    "persona1.talla = 1.69\n",
    "\n",
    "#PAra mostrar los valores del obejeto\n",
    "print(f\"Nombre: {persona1.nombre}\\n\"+\n",
    "    f\"Apellidos: {persona1.apellidos}\\n\"+\n",
    "    f\"DNI: {persona1.dni}\\n\"+\n",
    "    f\"Talla: {persona1.talla}\")"
   ]
  },
  {
   "cell_type": "code",
   "execution_count": 11,
   "id": "8debd7df",
   "metadata": {},
   "outputs": [],
   "source": [
    "#Para utilizar constructores utilizamos: _init_\n",
    "#Constructor -> metodo para inicializar valores de una clase"
   ]
  },
  {
   "cell_type": "code",
   "execution_count": 15,
   "id": "60b06bef",
   "metadata": {},
   "outputs": [
    {
     "name": "stdout",
     "output_type": "stream",
     "text": [
      "Curso: LP3\n",
      "Codigo: IS06O1\n",
      "Horas: 6\n",
      "Creditos: 3\n"
     ]
    }
   ],
   "source": [
    "#Crear: Clase: Curso\n",
    "#Atributos: codigo, nombre, horas, creditos\n",
    "\n",
    "class Curso:\n",
    "    def __init__(self, codigo, nombre, horas, creditos):\n",
    "        self.codigo = codigo\n",
    "        self.nombre = nombre\n",
    "        self.horas = horas\n",
    "        self.creditos = creditos\n",
    "        \n",
    "    def mostrar_datos_curso(self):\n",
    "        print(f\"Curso: {self.nombre}\\n\"+\n",
    "                f\"Codigo: {self.codigo}\\n\"+\n",
    "                f\"Horas: {self.horas}\\n\"+\n",
    "                f\"Creditos: {self.creditos}\")\n",
    "        \n",
    "#Creamos objeto curso1\n",
    "\n",
    "curso1 = Curso(\"IS06O1\", \"LP3\", 6, 3)\n",
    "curso1.mostrar_datos_curso()"
   ]
  },
  {
   "cell_type": "code",
   "execution_count": null,
   "id": "b2550ac1",
   "metadata": {},
   "outputs": [],
   "source": []
  }
 ],
 "metadata": {
  "kernelspec": {
   "display_name": "Python 3 (ipykernel)",
   "language": "python",
   "name": "python3"
  },
  "language_info": {
   "codemirror_mode": {
    "name": "ipython",
    "version": 3
   },
   "file_extension": ".py",
   "mimetype": "text/x-python",
   "name": "python",
   "nbconvert_exporter": "python",
   "pygments_lexer": "ipython3",
   "version": "3.9.7"
  }
 },
 "nbformat": 4,
 "nbformat_minor": 5
}
