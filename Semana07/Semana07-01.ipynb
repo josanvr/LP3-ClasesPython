{
 "cells": [
  {
   "cell_type": "markdown",
   "id": "94c4b945",
   "metadata": {},
   "source": [
    "# Semana 07\n",
    "Jose Andres Vera Rodriguez\n",
    "\n",
    "## Temas: \n",
    " - Modulos\n",
    " - PIP\n",
    " - Manejo de archivos\n"
   ]
  },
  {
   "cell_type": "markdown",
   "id": "009c32a9",
   "metadata": {},
   "source": [
    "#### Modulos\n",
    "    Los modulos permiten crear librerias de funcionalidades que puedas utilizar o reutilizar en cualquier momento en un proyecto. La modularidad permite reutilizar código.\n",
    "\n",
    "#Ej.: Suponer que estamos desarrollando un sistema de facturacion y necesitamos crear nuestras librerias que nos permitan calcular SubTotal, IGV y total. (Archivos adjuntos .py - Realizados en Spyder)"
   ]
  },
  {
   "cell_type": "markdown",
   "id": "239bba07",
   "metadata": {},
   "source": [
    "#### Instalacion PIP\n",
    "    - PIP es un administrador de paquetes para Python, esto significa que podemos agregar nuevos paquetes (librerias) utilizando el comando: pip install  Para utilizar nuevas utilidades de python. \n",
    "    - Si deseamos desinstalar, utiliaremos el comando: pip uninstall\n",
    "    - Para ver la version del pip que tengo instaldo: pip --version\n",
    "    - Para ver los paquetes que tengo: pip list\n",
    "    - Para instalar: pip install nombredelpaquete\n",
    "\n",
    "Ejemplo: Para instalar las librerias Spark, haremos pip install spark"
   ]
  },
  {
   "cell_type": "markdown",
   "id": "f3f42eb6",
   "metadata": {},
   "source": [
    "#### Manejo de archivos\n",
    "     #Lectura de archivos.\n",
    "        1. Creamos archivo noticia.txt\n",
    "        2. Creamos archivo leer_notica.py\n",
    "                noticia = open(\"noticia.txt\",\"rt\",encoding=('utf8'))\n",
    "                datos_noticia = noticia.read()\n",
    "                print(datos_noticia)\n",
    "                \n",
    "     #Escritura de archivos\n",
    "         1.Creamos archivo grabar_archivo.py\n",
    "                archivo = open(\"archivo de prueba.txt\",\"wt\")\n",
    "                contenido = \"Linea1 hola amigos como estan\\nLinea2 Bienvenidos.\"\n",
    "                archivo.write(contenido)\n",
    "                archivo.close()\n",
    "                \n",
    "     #Agregar datos a archivo\n",
    "                archivo = open(\"noticia.txt\",\"at\")\n",
    "                #\\n agrega el contenido en una liena al final\n",
    "                contenido =\"\\nFuente:RPP\"\n",
    "                archivo.write(contenido)\n",
    "                archivo.close()\n",
    "                \n",
    "     #Eliminar archivo\n",
    "                import os\n",
    "                os.remove(\"archivo_de_prueba.txt\")\n",
    "                \n",
    "Todos los archivos se encuentran en la carpeta Semana07."
   ]
  },
  {
   "cell_type": "code",
   "execution_count": null,
   "id": "df1e66c4",
   "metadata": {},
   "outputs": [],
   "source": []
  }
 ],
 "metadata": {
  "kernelspec": {
   "display_name": "Python 3 (ipykernel)",
   "language": "python",
   "name": "python3"
  },
  "language_info": {
   "codemirror_mode": {
    "name": "ipython",
    "version": 3
   },
   "file_extension": ".py",
   "mimetype": "text/x-python",
   "name": "python",
   "nbconvert_exporter": "python",
   "pygments_lexer": "ipython3",
   "version": "3.9.7"
  }
 },
 "nbformat": 4,
 "nbformat_minor": 5
}
